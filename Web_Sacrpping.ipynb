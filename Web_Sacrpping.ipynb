{
 "cells": [
  {
   "cell_type": "markdown",
   "id": "8d917e57",
   "metadata": {},
   "source": [
    "# Web_Scrapping"
   ]
  },
  {
   "cell_type": "code",
   "execution_count": null,
   "id": "05b2d74e",
   "metadata": {},
   "outputs": [],
   "source": [
    "import requests\n",
    "from bs4 import BeautifulSoup\n",
    "import pandas as pd\n",
    "import re\n",
    "\n",
    "#url='https://www.amazon.in/LG-Inverter-Direct-Cool-Refrigerator-GL-D201ASCY/product-reviews/B084YC1FHT/ref=cm_cr_dp_d_show_all_btm?ie=UTF8&reviewerType=all_reviews&pageNumber=1'\n",
    "#url='https://www.amazon.in/Carrier-Inverter-Flexicool-Convertible-ESTERCxi/product-reviews/B09PBR4Z4C/ref=cm_cr_dp_d_show_all_btm?ie=UTF8&reviewerType=all_reviews&pageNumber=1'\n",
    "#url='https://www.amazon.in/Noise-Bluetooth-Headphones-Instacharge-Technology/product-reviews/B09JGB1468/ref=cm_cr_dp_d_show_all_btm?ie=UTF8&reviewerType=all_reviews'\n",
    "url='https://www.amazon.in/realme-Storage-Processor-Triple-Display/product-reviews/B09RMQYHLH/ref=cm_cr_dp_d_show_all_btm?ie=UTF8&reviewerType=all_reviews'\n",
    "#url='https://www.amazon.in/Noise-Colorfit-Pro-Touch-Control/product-reviews/B07YY1BY5B/ref=cm_cr_dp_d_show_all_btm?ie=UTF8&reviewerType=all_reviews&pageNumber=1'\n",
    "#url=input(\"Enter url:\")\n",
    "\n",
    "#To get Product Name\n",
    "r=requests.get(url)\n",
    "soup=BeautifulSoup(r.text,'html.parser')\n",
    "reviews=soup.find_all('div',{'data-hook':'review'})\n",
    "pr={'product':soup.title.text.replace('Amazon.in:Customer reviews:','').strip()}\n",
    "Product_Name=pr.get('product')\n",
    "print(\"Product_Name:\",Product_Name)\n",
    "\n",
    "\n",
    "pg=re.findall(r\"all_reviews&pageNumber=1\",url)\n",
    "if len(pg)==0:\n",
    "    url=url+'&pageNumber=1'\n",
    "\n",
    "review_list=[]\n",
    "\n",
    "#To create soup for url\n",
    "def get_soup(url):\n",
    "    r=requests.get(url)\n",
    "    soup=BeautifulSoup(r.text,'html.parser')\n",
    "    return soup\n",
    "\n",
    "#To extract title, body and ratings of review for given URL\n",
    "def get_reviews(soup):\n",
    "    reviews=soup.find_all('div',{'data-hook':'review'})\n",
    "    for item in reviews:\n",
    "        review={\n",
    "        #'product':soup.title.text.replace('Amazon.in:Customer reviews:','').strip(),\n",
    "        'title':item.find('a',{'data-hook':'review-title'}).text.strip(),\n",
    "        'rating':float(item.find('i',{'data-hook':'review-star-rating'}).text.replace('out of 5 stars','').strip()),\n",
    "        'body':item.find('span',{'data-hook':'review-body'}).text.strip()\n",
    "        }\n",
    "        review_list.append(review)\n",
    "\n",
    "#To repeat above function for all pages of review for particular product.\n",
    "for x in range(0,51):\n",
    "    y='pageNumber={}'.format(x+1)\n",
    "    url=url.replace(f'pageNumber={x}',y)\n",
    "    print(url)\n",
    "    soup=get_soup(url)\n",
    "    print('getting_page={}'.format(x+1))\n",
    "    get_reviews(soup)\n",
    "    print(len(review_list))\n",
    "    #To end the loop on last page\n",
    "    end=soup.find('li',{'class':'a-disabled a-last'})\n",
    "    if end==None:\n",
    "        pass\n",
    "    else:\n",
    "        break\n",
    "\n",
    "\n",
    "\n",
    "df=pd.DataFrame(review_list)\n"
   ]
  }
 ],
 "metadata": {
  "kernelspec": {
   "display_name": "Python 3 (ipykernel)",
   "language": "python",
   "name": "python3"
  },
  "language_info": {
   "codemirror_mode": {
    "name": "ipython",
    "version": 3
   },
   "file_extension": ".py",
   "mimetype": "text/x-python",
   "name": "python",
   "nbconvert_exporter": "python",
   "pygments_lexer": "ipython3",
   "version": "3.10.2"
  }
 },
 "nbformat": 4,
 "nbformat_minor": 5
}
